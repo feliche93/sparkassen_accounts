{
 "cells": [
  {
   "cell_type": "markdown",
   "metadata": {},
   "source": [
    "# Imported Libraries"
   ]
  },
  {
   "cell_type": "code",
   "execution_count": 23,
   "metadata": {},
   "outputs": [],
   "source": [
    "import camelot\n",
    "import pandas as pd\n",
    "import numpy as np\n",
    "\n",
    "from selenium import webdriver\n",
    "from selenium.webdriver.common.keys import Keys\n",
    "from selenium.webdriver.common.action_chains import ActionChains\n",
    "from selenium.webdriver.common.by import By\n",
    "from selenium import webdriver"
   ]
  },
  {
   "cell_type": "markdown",
   "metadata": {},
   "source": [
    "## 1) Extracting Sparkassen Info from PDF"
   ]
  },
  {
   "cell_type": "markdown",
   "metadata": {},
   "source": [
    "Used the following function to fix the issue of having all data in one cell"
   ]
  },
  {
   "cell_type": "code",
   "execution_count": 224,
   "metadata": {},
   "outputs": [],
   "source": [
    "# https://stackoverflow.com/questions/45846765/efficient-way-to-unnest-explode-multiple-list-columns-in-a-pandas-dataframe\n",
    "\n",
    "def explode(df, lst_cols, fill_value=''):\n",
    "    # make sure `lst_cols` is a list\n",
    "    if lst_cols and not isinstance(lst_cols, list):\n",
    "        lst_cols = [lst_cols]\n",
    "    # all columns except `lst_cols`\n",
    "    idx_cols = df.columns.difference(lst_cols)\n",
    "\n",
    "    # calculate lengths of lists\n",
    "    lens = df[lst_cols[0]].str.len()\n",
    "\n",
    "    if (lens > 0).all():\n",
    "        # ALL lists in cells aren't empty\n",
    "        return pd.DataFrame({\n",
    "            col:np.repeat(df[col].values, df[lst_cols[0]].str.len())\n",
    "            for col in idx_cols\n",
    "        }).assign(**{col:np.concatenate(df[col].values) for col in lst_cols}) \\\n",
    "          .loc[:, df.columns]\n",
    "    else:\n",
    "        # at least one list in cells is empty\n",
    "        return pd.DataFrame({\n",
    "            col:np.repeat(df[col].values, df[lst_cols[0]].str.len())\n",
    "            for col in idx_cols\n",
    "        }).assign(**{col:np.concatenate(df[col].values) for col in lst_cols}) \\\n",
    "          .append(df.loc[lens==0, idx_cols]).fillna(fill_value) \\\n",
    "          .loc[:, df.columns]"
   ]
  },
  {
   "cell_type": "code",
   "execution_count": 244,
   "metadata": {},
   "outputs": [],
   "source": [
    "tables = camelot.read_pdf('Sparkassenrangliste_2018.pdf',pages='all')\n",
    "\n",
    "# Creating new df to append to\n",
    "df = pd.DataFrame()\n",
    "\n",
    "# Iterate over each table in the 10 pages\n",
    "for table in tables:\n",
    "    table = table.df\n",
    "    table.columns = ['Rang','Institut','Sitz','Verband','Bilanzsumme gemäß Bilanzstatistik','Kundeneinlagen','Spareinlagen', 'Kundenkredite','Anzahl Mitarbeiter','Sparkassenstellen (einschließlich SB)']\n",
    "    table.drop(index=[0,1,2],inplace=True)\n",
    "    table = table.apply(lambda text: text.str.split('\\n'))\n",
    "    table.reset_index(inplace=True)\n",
    "    table.drop(columns='index',inplace=True)\n",
    "    table = explode(table,list(table.columns))\n",
    "    df = df.append(table)\n",
    "\n",
    "df.set_index('Rang',inplace=True)\n",
    "\n",
    "# Get rid of '.' to convert to numeric\n",
    "df[list(df.columns)[3:]] = df[list(df.columns)[3:]].apply(lambda number: number.str.replace('.',''))\n",
    "\n",
    "# Convert colukns into integers\n",
    "for column in list(df.columns)[3:]:\n",
    "    df[column] = pd.to_numeric(df[column])\n",
    "\n",
    "# Remove any potential whitespace to have clean text\n",
    "for column in list(df.columns)[:3]:\n",
    "    df[column] = df[column].str.strip()\n",
    "    \n",
    "# Save df as csv for later use in the scarper\n",
    "df.to_csv('sparkassen_rangliste_cleaned.csv')"
   ]
  },
  {
   "cell_type": "markdown",
   "metadata": {},
   "source": [
    "# 2) Getting for each Sparkassen Name the website URL with Selenium "
   ]
  },
  {
   "cell_type": "code",
   "execution_count": null,
   "metadata": {},
   "outputs": [],
   "source": [
    "df = pd.read_csv('sparkassen_rangliste_cleaned.csv')\n",
    "\n",
    "sparkaseen_links = []\n",
    "\n",
    "# Setting driver to Safari\n",
    "driver = webdriver.Chrome(\n",
    "    executable_path='/Users/felixvemmer/OneDrive/Dokumente/Hobbies/Programming/Python/chromedriver')\n",
    "\n",
    "# Extracting sparkassen from df and constructing search url\n",
    "sparkassen = df['Institut'].to_list()\n",
    "google_search_url = 'https://www.google.de/search?q='\n",
    "\n",
    "for sparkasse in sparkassen:\n",
    "    google_url = google_search_url+sparkasse.replace(' ','+')\n",
    "    driver.get(google_url)\n",
    "    driver.find_element_by_css_selector('h3').click() \n",
    "    target_url = driver.current_url\n",
    "    sparkaseen_links.append(target_url)\n",
    "    \n",
    "df['links'] = sparkaseen_links\n",
    "\n",
    "# Correcting one record manually\n",
    "df.at['122','links'] = 'https://www.sparkasse-hegau-bodensee.de/de/home.html'\n",
    "\n",
    "# Save df as csv for later use in the scarper\n",
    "df.to_csv('sparkassen_rangliste_cleaned.csv')"
   ]
  },
  {
   "cell_type": "markdown",
   "metadata": {},
   "source": [
    "## 3) Use Scrapy to test and generate different patterns for target url"
   ]
  },
  {
   "cell_type": "markdown",
   "metadata": {},
   "source": [
    "## 4) Join verified urls to existing dataframe for final scraping"
   ]
  },
  {
   "cell_type": "code",
   "execution_count": 122,
   "metadata": {},
   "outputs": [],
   "source": [
    "sparkassen = pd.read_csv('sparkassen_rangliste_cleaned.csv')\n",
    "verified_urls = pd.read_csv('/Users/felixvemmer/Desktop/sparkassen_accounts/verified_links.csv')"
   ]
  },
  {
   "cell_type": "code",
   "execution_count": 123,
   "metadata": {},
   "outputs": [],
   "source": [
    "sparkassen['domain'] = sparkassen['links'].str.split('/',expand=True)[2].str.split('www.',expand=True)[1]\n",
    "verified_urls['domain'] = verified_urls['verified_url'].str.split('/', expand=True)[2].str.split('www.', expand=True)[1]"
   ]
  },
  {
   "cell_type": "code",
   "execution_count": 138,
   "metadata": {},
   "outputs": [
    {
     "data": {
      "text/html": [
       "<div>\n",
       "<style scoped>\n",
       "    .dataframe tbody tr th:only-of-type {\n",
       "        vertical-align: middle;\n",
       "    }\n",
       "\n",
       "    .dataframe tbody tr th {\n",
       "        vertical-align: top;\n",
       "    }\n",
       "\n",
       "    .dataframe thead th {\n",
       "        text-align: right;\n",
       "    }\n",
       "</style>\n",
       "<table border=\"1\" class=\"dataframe\">\n",
       "  <thead>\n",
       "    <tr style=\"text-align: right;\">\n",
       "      <th></th>\n",
       "      <th>Rang</th>\n",
       "      <th>Institut</th>\n",
       "      <th>Sitz</th>\n",
       "      <th>Verband</th>\n",
       "      <th>Bilanzsumme gemäß Bilanzstatistik</th>\n",
       "      <th>Kundeneinlagen</th>\n",
       "      <th>Spareinlagen</th>\n",
       "      <th>Kundenkredite</th>\n",
       "      <th>Anzahl Mitarbeiter</th>\n",
       "      <th>Sparkassenstellen (einschließlich SB)</th>\n",
       "      <th>links</th>\n",
       "      <th>domain</th>\n",
       "      <th>verified_url</th>\n",
       "    </tr>\n",
       "  </thead>\n",
       "  <tbody>\n",
       "    <tr>\n",
       "      <th>89</th>\n",
       "      <td>87</td>\n",
       "      <td>Sparkasse Bamberg</td>\n",
       "      <td>Bamberg</td>\n",
       "      <td>SVB</td>\n",
       "      <td>4103245</td>\n",
       "      <td>3326524</td>\n",
       "      <td>1000166</td>\n",
       "      <td>2605242</td>\n",
       "      <td>815</td>\n",
       "      <td>48</td>\n",
       "      <td>https://www.sparkasse-bamberg.de/en/home.html</td>\n",
       "      <td>sparkasse-bamberg.de</td>\n",
       "      <td>NaN</td>\n",
       "    </tr>\n",
       "    <tr>\n",
       "      <th>14</th>\n",
       "      <td>15</td>\n",
       "      <td>Sparkasse Nürnberg</td>\n",
       "      <td>Nürnberg</td>\n",
       "      <td>SVB</td>\n",
       "      <td>11469244</td>\n",
       "      <td>9220404</td>\n",
       "      <td>2144547</td>\n",
       "      <td>6750665</td>\n",
       "      <td>1914</td>\n",
       "      <td>107</td>\n",
       "      <td>https://www.sparkasse-nuernberg.de/en/home.html</td>\n",
       "      <td>sparkasse-nuernberg.de</td>\n",
       "      <td>NaN</td>\n",
       "    </tr>\n",
       "    <tr>\n",
       "      <th>44</th>\n",
       "      <td>43</td>\n",
       "      <td>Sparkasse Ulm</td>\n",
       "      <td>Ulm</td>\n",
       "      <td>SVBW</td>\n",
       "      <td>6346182</td>\n",
       "      <td>4830784</td>\n",
       "      <td>1817440</td>\n",
       "      <td>4060486</td>\n",
       "      <td>1053</td>\n",
       "      <td>80</td>\n",
       "      <td>https://www.sparkasse-ulm.de/en/home.html</td>\n",
       "      <td>sparkasse-ulm.de</td>\n",
       "      <td>NaN</td>\n",
       "    </tr>\n",
       "    <tr>\n",
       "      <th>169</th>\n",
       "      <td>165</td>\n",
       "      <td>Sparkasse Bad Tölz-Wolfratshausen</td>\n",
       "      <td>Bad Tölz</td>\n",
       "      <td>SVB</td>\n",
       "      <td>2484363</td>\n",
       "      <td>2013194</td>\n",
       "      <td>400194</td>\n",
       "      <td>1795153</td>\n",
       "      <td>452</td>\n",
       "      <td>29</td>\n",
       "      <td>https://www.spktw.de/en/home.html</td>\n",
       "      <td>spktw.de</td>\n",
       "      <td>NaN</td>\n",
       "    </tr>\n",
       "  </tbody>\n",
       "</table>\n",
       "</div>"
      ],
      "text/plain": [
       "     Rang                           Institut      Sitz Verband  \\\n",
       "89     87                  Sparkasse Bamberg   Bamberg     SVB   \n",
       "14     15                 Sparkasse Nürnberg  Nürnberg     SVB   \n",
       "44     43                      Sparkasse Ulm       Ulm    SVBW   \n",
       "169   165  Sparkasse Bad Tölz-Wolfratshausen  Bad Tölz     SVB   \n",
       "\n",
       "     Bilanzsumme gemäß Bilanzstatistik  Kundeneinlagen  Spareinlagen  \\\n",
       "89                             4103245         3326524       1000166   \n",
       "14                            11469244         9220404       2144547   \n",
       "44                             6346182         4830784       1817440   \n",
       "169                            2484363         2013194        400194   \n",
       "\n",
       "     Kundenkredite  Anzahl Mitarbeiter  Sparkassenstellen (einschließlich SB)  \\\n",
       "89         2605242                 815                                     48   \n",
       "14         6750665                1914                                    107   \n",
       "44         4060486                1053                                     80   \n",
       "169        1795153                 452                                     29   \n",
       "\n",
       "                                               links                  domain  \\\n",
       "89     https://www.sparkasse-bamberg.de/en/home.html    sparkasse-bamberg.de   \n",
       "14   https://www.sparkasse-nuernberg.de/en/home.html  sparkasse-nuernberg.de   \n",
       "44         https://www.sparkasse-ulm.de/en/home.html        sparkasse-ulm.de   \n",
       "169                https://www.spktw.de/en/home.html                spktw.de   \n",
       "\n",
       "    verified_url  \n",
       "89           NaN  \n",
       "14           NaN  \n",
       "44           NaN  \n",
       "169          NaN  "
      ]
     },
     "execution_count": 138,
     "metadata": {},
     "output_type": "execute_result"
    }
   ],
   "source": [
    "final.iloc[[89,14,44,169]]"
   ]
  },
  {
   "cell_type": "code",
   "execution_count": 129,
   "metadata": {},
   "outputs": [],
   "source": [
    "final = pd.merge(sparkassen, verified_urls, how='left').drop_duplicates()"
   ]
  },
  {
   "cell_type": "code",
   "execution_count": 130,
   "metadata": {},
   "outputs": [
    {
     "data": {
      "text/plain": [
       "14     https://www.sparkasse-nuernberg.de/en/home.html\n",
       "44           https://www.sparkasse-ulm.de/en/home.html\n",
       "89       https://www.sparkasse-bamberg.de/en/home.html\n",
       "169                  https://www.spktw.de/en/home.html\n",
       "Name: links, dtype: object"
      ]
     },
     "execution_count": 130,
     "metadata": {},
     "output_type": "execute_result"
    }
   ],
   "source": [
    "final[final['verified_url'].isnull()]['links']"
   ]
  },
  {
   "cell_type": "code",
   "execution_count": null,
   "metadata": {},
   "outputs": [],
   "source": [
    "sample_not_working_urls = [\n",
    "   'https://www.sparkasse-nuernberg.de/de/home/privatkunden/girokonto.html?n=true&stref=hnav',\n",
    "    'https://www.sparkasse-ulm.de/de/home/privatkunden/girokonto.html?n=true&stref=hnav',\n",
    "]"
   ]
  },
  {
   "cell_type": "code",
   "execution_count": 99,
   "metadata": {},
   "outputs": [],
   "source": [
    "final_set = set()\n",
    "for link in sample_not_working_urls:\n",
    "        target_part = link.split('/home')[1].split('.html?')[0]\n",
    "        final_set.add(target_part + '.html?')"
   ]
  }
 ],
 "metadata": {
  "kernelspec": {
   "display_name": "Python 3.7.3 64-bit ('base': conda)",
   "language": "python",
   "name": "python37364bitbaseconda874900ca48c94bab93bdb57447f6d7b5"
  },
  "language_info": {
   "codemirror_mode": {
    "name": "ipython",
    "version": 3
   },
   "file_extension": ".py",
   "mimetype": "text/x-python",
   "name": "python",
   "nbconvert_exporter": "python",
   "pygments_lexer": "ipython3",
   "version": "3.7.3"
  }
 },
 "nbformat": 4,
 "nbformat_minor": 2
}
